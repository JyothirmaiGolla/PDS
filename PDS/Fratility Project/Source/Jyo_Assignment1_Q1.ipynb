{
  "nbformat": 4,
  "nbformat_minor": 0,
  "metadata": {
    "colab": {
      "provenance": []
    },
    "kernelspec": {
      "name": "python3",
      "display_name": "Python 3"
    },
    "language_info": {
      "name": "python"
    }
  },
  "cells": [
    {
      "cell_type": "code",
      "execution_count": 1,
      "metadata": {
        "id": "I5lJtPGwvwu9"
      },
      "outputs": [],
      "source": [
        "import pandas as pd\n"
      ]
    },
    {
      "cell_type": "code",
      "source": [
        "import scipy.stats as stats\n",
        "\n",
        "data = pd.read_csv(\"/content/Jyo_Raw_Data.csv\")\n",
        "\n",
        "\n",
        "t1 = data[data['Frailty'] == 'Y']['Height']\n",
        "t0 = data[data['Frailty'] == 'N']['Height']\n",
        "\n",
        "t, p = stats.ttest_ind(t1, t0)\n",
        "\n",
        "\n",
        "print(\"t-statistic:\", t)\n",
        "print(\"p-value:\", p)\n",
        "\n",
        "a = 0.05\n",
        "if p < a:\n",
        "    print(\"There exists a notable disparity in grip strength among the various groups.\")\n",
        "else:\n",
        "    print(\"There is no noteworthy variance in grip strength among the groups.\")"
      ],
      "metadata": {
        "colab": {
          "base_uri": "https://localhost:8080/"
        },
        "id": "22wPmD6JxxaN",
        "outputId": "f55934df-6564-4849-8cf5-51c471b32641"
      },
      "execution_count": 9,
      "outputs": [
        {
          "output_type": "stream",
          "name": "stdout",
          "text": [
            "t-statistic: 0.5569036104614213\n",
            "p-value: 0.5928270234689104\n",
            "There is no noteworthy variance in grip strength among the groups.\n"
          ]
        }
      ]
    }
  ]
}